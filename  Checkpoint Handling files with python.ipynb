{
 "cells": [
  {
   "cell_type": "code",
   "execution_count": 4,
   "id": "784ce173",
   "metadata": {},
   "outputs": [
    {
     "name": "stdout",
     "output_type": "stream",
     "text": [
      "Entire file contents:\n",
      "What is Python language?                                                \n",
      "Python is a widely used high-level, general-purpose, interpreted, dynamic programming language.Its design philosophy emphasizes code readability, and its syntax allows programmers to express concepts in fewer lines of code than possible in \n",
      "languages such as C++ or Java. \n",
      "Python supports multiple programming paradigms, including object-oriented, imperative and functional programming or procedural styles. It features a dynamic type system and automatic memory management and has a large and comprehensive standard library.The best way we learn anything is by practice and exercise questions. We  have started this section for those (beginner to intermediate) who are familiar with Python.\n",
      "====================================================================\n",
      "\n",
      "First 5 lines of file:\n",
      "What is Python language?                                                \n",
      "Python is a widely used high-level, general-purpose, interpreted, dynamic programming language.Its design philosophy emphasizes code readability, and its syntax allows programmers to express concepts in fewer lines of code than possible in \n",
      "languages such as C++ or Java. \n",
      "Python supports multiple programming paradigms, including object-oriented, imperative and functional programming or procedural styles. It features a dynamic type system and automatic memory management and has a large and comprehensive standard library.The best way we learn anything is by practice and exercise questions. We  have started this section for those (beginner to intermediate) who are familiar with Python.\n",
      "====================================================================\n",
      "\n",
      "Last 3 lines of file:\n",
      "Python is a widely used high-level, general-purpose, interpreted, dynamic programming language.Its design philosophy emphasizes code readability, and its syntax allows programmers to express concepts in fewer lines of code than possible in \n",
      "languages such as C++ or Java. \n",
      "Python supports multiple programming paradigms, including object-oriented, imperative and functional programming or procedural styles. It features a dynamic type system and automatic memory management and has a large and comprehensive standard library.The best way we learn anything is by practice and exercise questions. We  have started this section for those (beginner to intermediate) who are familiar with Python.\n",
      "====================================================================\n",
      "\n",
      "Word count of file:\n",
      "100\n",
      "====================================================================\n",
      "\n",
      "Last 2 lines of file (bonus):\n",
      "languages such as C++ or Java. \n",
      "Python supports multiple programming paradigms, including object-oriented, imperative and functional programming or procedural styles. It features a dynamic type system and automatic memory management and has a large and comprehensive standard library.The best way we learn anything is by practice and exercise questions. We  have started this section for those (beginner to intermediate) who are familiar with Python.\n"
     ]
    }
   ],
   "source": [
    "def read_entire_file(filename):\n",
    "    with open(filename, 'r') as file:\n",
    "        return file.read()\n",
    "\n",
    "def read_first_n_lines(filename, n):\n",
    "    with open(filename, 'r') as file:\n",
    "        return ''.join(file.readline() for i in range(n))\n",
    "\n",
    "def read_last_n_lines(filename, n):\n",
    "    with open(filename, 'r') as file:\n",
    "        lines = file.read().splitlines()\n",
    "        return '\\n'.join(lines[-n:])\n",
    "\n",
    "def count_words(filename):\n",
    "    with open(filename, 'r') as file:\n",
    "        data = file.read()\n",
    "        words = data.split()\n",
    "        return len(words)\n",
    "\n",
    "def read_last_n_lines_bonus(filename, n):\n",
    "    with open(filename, 'r') as file:\n",
    "        lines = file.read().splitlines()\n",
    "        return '\\n'.join(lines[-n:])\n",
    "        \n",
    "\n",
    "filename = 'python.txt'\n",
    "\n",
    "# Read entire file\n",
    "entire_file = read_entire_file(filename)\n",
    "print('Entire file contents:')\n",
    "print(entire_file)\n",
    "print('====================================================================\\n')\n",
    "# Read first 5 lines of file\n",
    "first_n_lines = read_first_n_lines(filename, 5)\n",
    "print('First 5 lines of file:')\n",
    "print(first_n_lines)\n",
    "print('====================================================================\\n')\n",
    "# Read last 3 lines of file\n",
    "last_n_lines = read_last_n_lines(filename, 3)\n",
    "print('Last 3 lines of file:')\n",
    "print(last_n_lines)\n",
    "print('====================================================================\\n')\n",
    "# Count words in file\n",
    "word_count = count_words(filename)\n",
    "print('Word count of file:')\n",
    "print(word_count)\n",
    "print('====================================================================\\n')\n",
    "# Bonus: read last 2 lines of file\n",
    "last_n_lines_bonus = read_last_n_lines_bonus(filename, 2)\n",
    "print('Last 2 lines of file (bonus):')\n",
    "print(last_n_lines_bonus)\n"
   ]
  },
  {
   "cell_type": "code",
   "execution_count": null,
   "id": "23a43ff6",
   "metadata": {},
   "outputs": [],
   "source": []
  }
 ],
 "metadata": {
  "kernelspec": {
   "display_name": "Python 3 (ipykernel)",
   "language": "python",
   "name": "python3"
  },
  "language_info": {
   "codemirror_mode": {
    "name": "ipython",
    "version": 3
   },
   "file_extension": ".py",
   "mimetype": "text/x-python",
   "name": "python",
   "nbconvert_exporter": "python",
   "pygments_lexer": "ipython3",
   "version": "3.9.13"
  }
 },
 "nbformat": 4,
 "nbformat_minor": 5
}
